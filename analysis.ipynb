{
 "cells": [
  {
   "cell_type": "code",
   "execution_count": 5,
   "metadata": {},
   "outputs": [
    {
     "data": {
      "application/vnd.microsoft.datawrangler.viewer.v0+json": {
       "columns": [
        {
         "name": "index",
         "rawType": "int64",
         "type": "integer"
        },
        {
         "name": "Country",
         "rawType": "object",
         "type": "string"
        },
        {
         "name": " Year",
         "rawType": "int64",
         "type": "integer"
        },
        {
         "name": " GDP (in billion USD)",
         "rawType": "float64",
         "type": "float"
        },
        {
         "name": " Inflation Rate (%)",
         "rawType": "float64",
         "type": "float"
        },
        {
         "name": " Unemployment Rate (%)",
         "rawType": "float64",
         "type": "float"
        },
        {
         "name": " Economic Growth (%)",
         "rawType": "float64",
         "type": "float"
        }
       ],
       "conversionMethod": "pd.DataFrame",
       "ref": "8de30459-bf4e-438f-a4a6-b50a2800230a",
       "rows": [
        [
         "0",
         "USA",
         "2010",
         "15000.0",
         "1.64",
         "9.63",
         "2.55"
        ],
        [
         "1",
         "USA",
         "2011",
         "15500.0",
         "3.16",
         "8.94",
         "1.53"
        ],
        [
         "2",
         "USA",
         "2012",
         "16000.0",
         "2.07",
         "8.1",
         "2.28"
        ],
        [
         "3",
         "USA",
         "2013",
         "16500.0",
         "1.5",
         "7.7",
         "1.84"
        ],
        [
         "4",
         "USA",
         "2014",
         "17000.0",
         "1.62",
         "7.25",
         "2.53"
        ]
       ],
       "shape": {
        "columns": 6,
        "rows": 5
       }
      },
      "text/html": [
       "<div>\n",
       "<style scoped>\n",
       "    .dataframe tbody tr th:only-of-type {\n",
       "        vertical-align: middle;\n",
       "    }\n",
       "\n",
       "    .dataframe tbody tr th {\n",
       "        vertical-align: top;\n",
       "    }\n",
       "\n",
       "    .dataframe thead th {\n",
       "        text-align: right;\n",
       "    }\n",
       "</style>\n",
       "<table border=\"1\" class=\"dataframe\">\n",
       "  <thead>\n",
       "    <tr style=\"text-align: right;\">\n",
       "      <th></th>\n",
       "      <th>Country</th>\n",
       "      <th>Year</th>\n",
       "      <th>GDP (in billion USD)</th>\n",
       "      <th>Inflation Rate (%)</th>\n",
       "      <th>Unemployment Rate (%)</th>\n",
       "      <th>Economic Growth (%)</th>\n",
       "    </tr>\n",
       "  </thead>\n",
       "  <tbody>\n",
       "    <tr>\n",
       "      <th>0</th>\n",
       "      <td>USA</td>\n",
       "      <td>2010</td>\n",
       "      <td>15000.0</td>\n",
       "      <td>1.64</td>\n",
       "      <td>9.63</td>\n",
       "      <td>2.55</td>\n",
       "    </tr>\n",
       "    <tr>\n",
       "      <th>1</th>\n",
       "      <td>USA</td>\n",
       "      <td>2011</td>\n",
       "      <td>15500.0</td>\n",
       "      <td>3.16</td>\n",
       "      <td>8.94</td>\n",
       "      <td>1.53</td>\n",
       "    </tr>\n",
       "    <tr>\n",
       "      <th>2</th>\n",
       "      <td>USA</td>\n",
       "      <td>2012</td>\n",
       "      <td>16000.0</td>\n",
       "      <td>2.07</td>\n",
       "      <td>8.10</td>\n",
       "      <td>2.28</td>\n",
       "    </tr>\n",
       "    <tr>\n",
       "      <th>3</th>\n",
       "      <td>USA</td>\n",
       "      <td>2013</td>\n",
       "      <td>16500.0</td>\n",
       "      <td>1.50</td>\n",
       "      <td>7.70</td>\n",
       "      <td>1.84</td>\n",
       "    </tr>\n",
       "    <tr>\n",
       "      <th>4</th>\n",
       "      <td>USA</td>\n",
       "      <td>2014</td>\n",
       "      <td>17000.0</td>\n",
       "      <td>1.62</td>\n",
       "      <td>7.25</td>\n",
       "      <td>2.53</td>\n",
       "    </tr>\n",
       "  </tbody>\n",
       "</table>\n",
       "</div>"
      ],
      "text/plain": [
       "  Country   Year   GDP (in billion USD)   Inflation Rate (%)  \\\n",
       "0     USA   2010                15000.0                 1.64   \n",
       "1     USA   2011                15500.0                 3.16   \n",
       "2     USA   2012                16000.0                 2.07   \n",
       "3     USA   2013                16500.0                 1.50   \n",
       "4     USA   2014                17000.0                 1.62   \n",
       "\n",
       "    Unemployment Rate (%)   Economic Growth (%)  \n",
       "0                    9.63                  2.55  \n",
       "1                    8.94                  1.53  \n",
       "2                    8.10                  2.28  \n",
       "3                    7.70                  1.84  \n",
       "4                    7.25                  2.53  "
      ]
     },
     "execution_count": 5,
     "metadata": {},
     "output_type": "execute_result"
    }
   ],
   "source": [
    "import kagglehub\n",
    "import os \n",
    "import pandas as pd\n",
    "\n",
    "# Download latest version\n",
    "path = kagglehub.dataset_download(\"adilshamim8/economic-indicators-and-inflation\")\n",
    "\n",
    "# read data\n",
    "df = pd.read_csv(os.path.join(path, \"Economic Indicators And Inflation.csv\"))\n",
    "df.head()"
   ]
  }
 ],
 "metadata": {
  "kernelspec": {
   "display_name": ".venv",
   "language": "python",
   "name": "python3"
  },
  "language_info": {
   "codemirror_mode": {
    "name": "ipython",
    "version": 3
   },
   "file_extension": ".py",
   "mimetype": "text/x-python",
   "name": "python",
   "nbconvert_exporter": "python",
   "pygments_lexer": "ipython3",
   "version": "3.13.2"
  }
 },
 "nbformat": 4,
 "nbformat_minor": 2
}
