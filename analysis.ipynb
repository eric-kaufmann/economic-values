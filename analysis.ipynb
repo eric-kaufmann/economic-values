{
 "cells": [
  {
   "cell_type": "code",
   "execution_count": 1,
   "metadata": {},
   "outputs": [
    {
     "name": "stderr",
     "output_type": "stream",
     "text": [
      "c:\\Users\\EricKaufmann\\workspace\\datainsights\\economic-values\\.venv\\Lib\\site-packages\\tqdm\\auto.py:21: TqdmWarning: IProgress not found. Please update jupyter and ipywidgets. See https://ipywidgets.readthedocs.io/en/stable/user_install.html\n",
      "  from .autonotebook import tqdm as notebook_tqdm\n"
     ]
    },
    {
     "data": {
      "application/vnd.microsoft.datawrangler.viewer.v0+json": {
       "columns": [
        {
         "name": "index",
         "rawType": "int64",
         "type": "integer"
        },
        {
         "name": "Country",
         "rawType": "object",
         "type": "string"
        },
        {
         "name": " Year",
         "rawType": "int64",
         "type": "integer"
        },
        {
         "name": " GDP (in billion USD)",
         "rawType": "float64",
         "type": "float"
        },
        {
         "name": " Inflation Rate (%)",
         "rawType": "float64",
         "type": "float"
        },
        {
         "name": " Unemployment Rate (%)",
         "rawType": "float64",
         "type": "float"
        },
        {
         "name": " Economic Growth (%)",
         "rawType": "float64",
         "type": "float"
        }
       ],
       "conversionMethod": "pd.DataFrame",
       "ref": "1a192287-3af5-4b63-b250-b15819fb0128",
       "rows": [
        [
         "0",
         "USA",
         "2010",
         "15000.0",
         "1.64",
         "9.63",
         "2.55"
        ],
        [
         "1",
         "USA",
         "2011",
         "15500.0",
         "3.16",
         "8.94",
         "1.53"
        ],
        [
         "2",
         "USA",
         "2012",
         "16000.0",
         "2.07",
         "8.1",
         "2.28"
        ],
        [
         "3",
         "USA",
         "2013",
         "16500.0",
         "1.5",
         "7.7",
         "1.84"
        ],
        [
         "4",
         "USA",
         "2014",
         "17000.0",
         "1.62",
         "7.25",
         "2.53"
        ]
       ],
       "shape": {
        "columns": 6,
        "rows": 5
       }
      },
      "text/html": [
       "<div>\n",
       "<style scoped>\n",
       "    .dataframe tbody tr th:only-of-type {\n",
       "        vertical-align: middle;\n",
       "    }\n",
       "\n",
       "    .dataframe tbody tr th {\n",
       "        vertical-align: top;\n",
       "    }\n",
       "\n",
       "    .dataframe thead th {\n",
       "        text-align: right;\n",
       "    }\n",
       "</style>\n",
       "<table border=\"1\" class=\"dataframe\">\n",
       "  <thead>\n",
       "    <tr style=\"text-align: right;\">\n",
       "      <th></th>\n",
       "      <th>Country</th>\n",
       "      <th>Year</th>\n",
       "      <th>GDP (in billion USD)</th>\n",
       "      <th>Inflation Rate (%)</th>\n",
       "      <th>Unemployment Rate (%)</th>\n",
       "      <th>Economic Growth (%)</th>\n",
       "    </tr>\n",
       "  </thead>\n",
       "  <tbody>\n",
       "    <tr>\n",
       "      <th>0</th>\n",
       "      <td>USA</td>\n",
       "      <td>2010</td>\n",
       "      <td>15000.0</td>\n",
       "      <td>1.64</td>\n",
       "      <td>9.63</td>\n",
       "      <td>2.55</td>\n",
       "    </tr>\n",
       "    <tr>\n",
       "      <th>1</th>\n",
       "      <td>USA</td>\n",
       "      <td>2011</td>\n",
       "      <td>15500.0</td>\n",
       "      <td>3.16</td>\n",
       "      <td>8.94</td>\n",
       "      <td>1.53</td>\n",
       "    </tr>\n",
       "    <tr>\n",
       "      <th>2</th>\n",
       "      <td>USA</td>\n",
       "      <td>2012</td>\n",
       "      <td>16000.0</td>\n",
       "      <td>2.07</td>\n",
       "      <td>8.10</td>\n",
       "      <td>2.28</td>\n",
       "    </tr>\n",
       "    <tr>\n",
       "      <th>3</th>\n",
       "      <td>USA</td>\n",
       "      <td>2013</td>\n",
       "      <td>16500.0</td>\n",
       "      <td>1.50</td>\n",
       "      <td>7.70</td>\n",
       "      <td>1.84</td>\n",
       "    </tr>\n",
       "    <tr>\n",
       "      <th>4</th>\n",
       "      <td>USA</td>\n",
       "      <td>2014</td>\n",
       "      <td>17000.0</td>\n",
       "      <td>1.62</td>\n",
       "      <td>7.25</td>\n",
       "      <td>2.53</td>\n",
       "    </tr>\n",
       "  </tbody>\n",
       "</table>\n",
       "</div>"
      ],
      "text/plain": [
       "  Country   Year   GDP (in billion USD)   Inflation Rate (%)  \\\n",
       "0     USA   2010                15000.0                 1.64   \n",
       "1     USA   2011                15500.0                 3.16   \n",
       "2     USA   2012                16000.0                 2.07   \n",
       "3     USA   2013                16500.0                 1.50   \n",
       "4     USA   2014                17000.0                 1.62   \n",
       "\n",
       "    Unemployment Rate (%)   Economic Growth (%)  \n",
       "0                    9.63                  2.55  \n",
       "1                    8.94                  1.53  \n",
       "2                    8.10                  2.28  \n",
       "3                    7.70                  1.84  \n",
       "4                    7.25                  2.53  "
      ]
     },
     "execution_count": 1,
     "metadata": {},
     "output_type": "execute_result"
    }
   ],
   "source": [
    "import kagglehub\n",
    "import os \n",
    "import pandas as pd\n",
    "\n",
    "# Download latest version\n",
    "path = kagglehub.dataset_download(\"adilshamim8/economic-indicators-and-inflation\")\n",
    "\n",
    "# read data\n",
    "df = pd.read_csv(os.path.join(path, \"Economic Indicators And Inflation.csv\"))\n",
    "df.head()"
   ]
  },
  {
   "cell_type": "code",
   "execution_count": 2,
   "metadata": {},
   "outputs": [
    {
     "data": {
      "text/plain": [
       "Index(['Country', ' Year', ' GDP (in billion USD)', ' Inflation Rate (%)',\n",
       "       ' Unemployment Rate (%)', ' Economic Growth (%)'],\n",
       "      dtype='object')"
      ]
     },
     "execution_count": 2,
     "metadata": {},
     "output_type": "execute_result"
    }
   ],
   "source": [
    "df.columns"
   ]
  },
  {
   "cell_type": "code",
   "execution_count": 3,
   "metadata": {},
   "outputs": [
    {
     "name": "stdout",
     "output_type": "stream",
     "text": [
      "<class 'pandas.core.frame.DataFrame'>\n",
      "RangeIndex: 304 entries, 0 to 303\n",
      "Data columns (total 6 columns):\n",
      " #   Column                  Non-Null Count  Dtype  \n",
      "---  ------                  --------------  -----  \n",
      " 0   Country                 304 non-null    object \n",
      " 1    Year                   304 non-null    int64  \n",
      " 2    GDP (in billion USD)   304 non-null    float64\n",
      " 3    Inflation Rate (%)     304 non-null    float64\n",
      " 4    Unemployment Rate (%)  304 non-null    float64\n",
      " 5    Economic Growth (%)    304 non-null    float64\n",
      "dtypes: float64(4), int64(1), object(1)\n",
      "memory usage: 14.4+ KB\n"
     ]
    }
   ],
   "source": [
    "df.info()"
   ]
  },
  {
   "cell_type": "code",
   "execution_count": 4,
   "metadata": {},
   "outputs": [
    {
     "data": {
      "text/plain": [
       "array(['USA', 'China', 'Japan', 'Germany', 'India', 'UK', 'Canada',\n",
       "       'Russia', 'Australia', 'France', 'South Korea', 'Saudi Arabia',\n",
       "       'Brazil', 'Italy', 'Bangladesh', 'Indonesia', 'Turkey', 'Malaysia',\n",
       "       'Pakistan'], dtype=object)"
      ]
     },
     "execution_count": 4,
     "metadata": {},
     "output_type": "execute_result"
    }
   ],
   "source": [
    "df[\"Country\"].unique()"
   ]
  },
  {
   "cell_type": "code",
   "execution_count": 5,
   "metadata": {},
   "outputs": [
    {
     "data": {
      "text/plain": [
       "array([2010, 2011, 2012, 2013, 2014, 2015, 2016, 2017, 2018, 2019, 2020,\n",
       "       2021, 2022, 2023, 2024, 2025])"
      ]
     },
     "execution_count": 5,
     "metadata": {},
     "output_type": "execute_result"
    }
   ],
   "source": [
    "df[\" Year\"].unique()"
   ]
  },
  {
   "cell_type": "markdown",
   "metadata": {},
   "source": [
    "## Data Cleaning"
   ]
  },
  {
   "cell_type": "code",
   "execution_count": 6,
   "metadata": {},
   "outputs": [
    {
     "data": {
      "text/plain": [
       "Index(['Country', ' Year', ' GDP (in billion USD)', ' Inflation Rate (%)',\n",
       "       ' Unemployment Rate (%)', ' Economic Growth (%)'],\n",
       "      dtype='object')"
      ]
     },
     "execution_count": 6,
     "metadata": {},
     "output_type": "execute_result"
    }
   ],
   "source": [
    "df.columns"
   ]
  },
  {
   "cell_type": "code",
   "execution_count": 7,
   "metadata": {},
   "outputs": [
    {
     "data": {
      "application/vnd.microsoft.datawrangler.viewer.v0+json": {
       "columns": [
        {
         "name": "index",
         "rawType": "int64",
         "type": "integer"
        },
        {
         "name": "Country",
         "rawType": "object",
         "type": "string"
        },
        {
         "name": "Year",
         "rawType": "int64",
         "type": "integer"
        },
        {
         "name": "GDP (in billion USD)",
         "rawType": "float64",
         "type": "float"
        },
        {
         "name": "Inflation Rate (%)",
         "rawType": "float64",
         "type": "float"
        },
        {
         "name": "Unemployment Rate (%)",
         "rawType": "float64",
         "type": "float"
        },
        {
         "name": "Economic Growth (%)",
         "rawType": "float64",
         "type": "float"
        }
       ],
       "conversionMethod": "pd.DataFrame",
       "ref": "8dac7a6b-cd11-4181-9817-335ceb7b0dd6",
       "rows": [
        [
         "0",
         "USA",
         "2010",
         "15000.0",
         "1.64",
         "9.63",
         "2.55"
        ],
        [
         "1",
         "USA",
         "2011",
         "15500.0",
         "3.16",
         "8.94",
         "1.53"
        ],
        [
         "2",
         "USA",
         "2012",
         "16000.0",
         "2.07",
         "8.1",
         "2.28"
        ],
        [
         "3",
         "USA",
         "2013",
         "16500.0",
         "1.5",
         "7.7",
         "1.84"
        ],
        [
         "4",
         "USA",
         "2014",
         "17000.0",
         "1.62",
         "7.25",
         "2.53"
        ]
       ],
       "shape": {
        "columns": 6,
        "rows": 5
       }
      },
      "text/html": [
       "<div>\n",
       "<style scoped>\n",
       "    .dataframe tbody tr th:only-of-type {\n",
       "        vertical-align: middle;\n",
       "    }\n",
       "\n",
       "    .dataframe tbody tr th {\n",
       "        vertical-align: top;\n",
       "    }\n",
       "\n",
       "    .dataframe thead th {\n",
       "        text-align: right;\n",
       "    }\n",
       "</style>\n",
       "<table border=\"1\" class=\"dataframe\">\n",
       "  <thead>\n",
       "    <tr style=\"text-align: right;\">\n",
       "      <th></th>\n",
       "      <th>Country</th>\n",
       "      <th>Year</th>\n",
       "      <th>GDP (in billion USD)</th>\n",
       "      <th>Inflation Rate (%)</th>\n",
       "      <th>Unemployment Rate (%)</th>\n",
       "      <th>Economic Growth (%)</th>\n",
       "    </tr>\n",
       "  </thead>\n",
       "  <tbody>\n",
       "    <tr>\n",
       "      <th>0</th>\n",
       "      <td>USA</td>\n",
       "      <td>2010</td>\n",
       "      <td>15000.0</td>\n",
       "      <td>1.64</td>\n",
       "      <td>9.63</td>\n",
       "      <td>2.55</td>\n",
       "    </tr>\n",
       "    <tr>\n",
       "      <th>1</th>\n",
       "      <td>USA</td>\n",
       "      <td>2011</td>\n",
       "      <td>15500.0</td>\n",
       "      <td>3.16</td>\n",
       "      <td>8.94</td>\n",
       "      <td>1.53</td>\n",
       "    </tr>\n",
       "    <tr>\n",
       "      <th>2</th>\n",
       "      <td>USA</td>\n",
       "      <td>2012</td>\n",
       "      <td>16000.0</td>\n",
       "      <td>2.07</td>\n",
       "      <td>8.10</td>\n",
       "      <td>2.28</td>\n",
       "    </tr>\n",
       "    <tr>\n",
       "      <th>3</th>\n",
       "      <td>USA</td>\n",
       "      <td>2013</td>\n",
       "      <td>16500.0</td>\n",
       "      <td>1.50</td>\n",
       "      <td>7.70</td>\n",
       "      <td>1.84</td>\n",
       "    </tr>\n",
       "    <tr>\n",
       "      <th>4</th>\n",
       "      <td>USA</td>\n",
       "      <td>2014</td>\n",
       "      <td>17000.0</td>\n",
       "      <td>1.62</td>\n",
       "      <td>7.25</td>\n",
       "      <td>2.53</td>\n",
       "    </tr>\n",
       "  </tbody>\n",
       "</table>\n",
       "</div>"
      ],
      "text/plain": [
       "  Country  Year  GDP (in billion USD)  Inflation Rate (%)  \\\n",
       "0     USA  2010               15000.0                1.64   \n",
       "1     USA  2011               15500.0                3.16   \n",
       "2     USA  2012               16000.0                2.07   \n",
       "3     USA  2013               16500.0                1.50   \n",
       "4     USA  2014               17000.0                1.62   \n",
       "\n",
       "   Unemployment Rate (%)  Economic Growth (%)  \n",
       "0                   9.63                 2.55  \n",
       "1                   8.94                 1.53  \n",
       "2                   8.10                 2.28  \n",
       "3                   7.70                 1.84  \n",
       "4                   7.25                 2.53  "
      ]
     },
     "execution_count": 7,
     "metadata": {},
     "output_type": "execute_result"
    }
   ],
   "source": [
    "# rename columns\n",
    "df.rename(columns={\n",
    "    \" Year\": \"Year\",\n",
    "    \" GDP (in billion USD)\": \"GDP (in billion USD)\",\n",
    "    \" Inflation Rate (%)\": \"Inflation Rate (%)\",\n",
    "    \" Unemployment Rate (%)\": \"Unemployment Rate (%)\",\n",
    "    \" Economic Growth (%)\": \"Economic Growth (%)\"\n",
    "}, inplace=True)\n",
    "df.head()"
   ]
  },
  {
   "cell_type": "markdown",
   "metadata": {},
   "source": [
    "## Analysis"
   ]
  },
  {
   "cell_type": "code",
   "execution_count": 8,
   "metadata": {},
   "outputs": [
    {
     "data": {
      "image/png": "[encoded data removed]",
      "text/plain": [
       "<Figure size 1000x500 with 1 Axes>"
      ]
     },
     "metadata": {},
     "output_type": "display_data"
    }
   ],
   "source": [
    "import matplotlib.pyplot as plt\n",
    "import seaborn as sns\n",
    "\n",
    "fig, ax = plt.subplots(figsize=(10, 5))\n",
    "\n",
    "sns.set_theme(style=\"whitegrid\", palette=\"pastel\")\n",
    "\n",
    "sns.lineplot(data=df, x=\"Year\", y=\"GDP (in billion USD)\", hue=\"Country\")\n",
    "\n",
    "box = ax.get_position()\n",
    "ax.set_position([box.x0, box.y0, box.width * 0.8, box.height])\n",
    "\n",
    "ax.legend(title=\"country\", loc='center left', bbox_to_anchor=(1, 0.5))\n",
    "plt.title(\"GDP (in billion USD) for each Country over the Years\")\n",
    "plt.show()"
   ]
  }
 ],
 "metadata": {
  "kernelspec": {
   "display_name": ".venv",
   "language": "python",
   "name": "python3"
  },
  "language_info": {
   "codemirror_mode": {
    "name": "ipython",
    "version": 3
   },
   "file_extension": ".py",
   "mimetype": "text/x-python",
   "name": "python",
   "nbconvert_exporter": "python",
   "pygments_lexer": "ipython3",
   "version": "3.13.2"
  }
 },
 "nbformat": 4,
 "nbformat_minor": 2
}
